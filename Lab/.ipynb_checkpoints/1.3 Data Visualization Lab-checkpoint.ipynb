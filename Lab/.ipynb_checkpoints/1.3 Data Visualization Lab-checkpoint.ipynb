{
 "cells": [
  {
   "cell_type": "markdown",
   "id": "745729be-5560-4f36-bc6d-7e2d024d70d5",
   "metadata": {},
   "source": [
    "# Lab Instructions\n",
    "\n",
    "You have been hired by a record executive to design a guaranteed smash hit song based on data.  The exec has decided that if you make a song that has all the most popular features of recent songs then it will definitely be a hit.  So if - for example - the most common key in the Spotify data is C# then we would want the song we are designing to also be in C#.  If a \"typical\" value of BPM is between 120 and 130 then we would want the song we are designing to also have a tempo between 120 and 130 BMP.\n",
    "\n",
    "Visualize and describe the distribution of:\n",
    "* BPM\n",
    "* Key\n",
    "* Mode\n",
    "* Danceability\n",
    "* Energy\n",
    "* Speechiness\n",
    "* Acousticness\n",
    "\n",
    "Based on your visualizations and calculations, what values for each of these features would make a song a guaranteed smash hit?  For quantitative features, you should propose a range of values.\n",
    "\n",
    "Based on the visualizations and calculations from the Spotify 2023 dataset, the most typical values for hit songs point to a clear “smash hit” profile. The average tempo clusters around 120 BPM, so a range of 120–125 BPM would best represent a popular rhythm. The most common key is C#, and the majority of songs are in the Major mode, so those would be chosen as the harmonic foundation. For expressive qualities, songs with danceability between 65–75% and energy between 65–75% represent the most frequent levels in the dataset. In terms of vocal qualities, speechiness is generally low (less than 10%), while acousticness tends to be minimal (0–20%). Taken together, this profile describes the musical “blueprint” for a guaranteed smash hit according to the dataset.\n",
    "\n",
    "Use a large language model to help you write code to identify if there are any songs in the Spotify dataset that meet all of the criteria we determined.  What is/are the artist(s) and title(s) of the song?  Were any of these songs actually popular?\n",
    "\n",
    "168\tWe Found Love\tRihanna, Calvin Harris\n",
    "236\tAMERICA HAS A PROBLEM (feat. Kendrick Lamar)\tKendrick Lamar, Beyoncï¿\n",
    "Both songs were commercially successful, appearing on major charts and accumulating very high streaming numbers, confirming that they were indeed popular tracks.\n",
    "\n",
    "Pick a song that you know was a smash hit. How do the values of BPM, key, mode, danceability, etc. compare to other songs?\n",
    "\n",
    "I selected We Found Love by Rihanna and Calvin Harris as my known hit. According to the dataset, it has a BPM of 128, is in the key of F#, and is in Major mode. Its danceability is 71% and energy is 78%, with speechiness of 4% and acousticness of 2%. Compared to the smash hit profile, this song fits closely on tempo, danceability, and speechiness, though its key is different (F# instead of C#) and its energy is slightly higher. Despite not perfectly matching every “typical” value, it was still a global smash hit, showing that while the profile highlights common features, hit songs can vary.\n",
    "\n",
    "**Hint:**  Import the Spotify data using `df = pd.read_csv('spotify-2023.csv', encoding='ISO-8859-1')`."
   ]
  },
  {
   "cell_type": "code",
   "execution_count": 23,
   "id": "841e7228-8179-4d0e-b2fc-98a9d68b7e22",
   "metadata": {
    "tags": []
   },
   "outputs": [
    {
     "data": {
      "text/html": [
       "<div>\n",
       "<style scoped>\n",
       "    .dataframe tbody tr th:only-of-type {\n",
       "        vertical-align: middle;\n",
       "    }\n",
       "\n",
       "    .dataframe tbody tr th {\n",
       "        vertical-align: top;\n",
       "    }\n",
       "\n",
       "    .dataframe thead th {\n",
       "        text-align: right;\n",
       "    }\n",
       "</style>\n",
       "<table border=\"1\" class=\"dataframe\">\n",
       "  <thead>\n",
       "    <tr style=\"text-align: right;\">\n",
       "      <th></th>\n",
       "      <th>track_name</th>\n",
       "      <th>artist(s)_name</th>\n",
       "      <th>artist_count</th>\n",
       "      <th>released_year</th>\n",
       "      <th>released_month</th>\n",
       "      <th>released_day</th>\n",
       "      <th>in_spotify_playlists</th>\n",
       "      <th>in_spotify_charts</th>\n",
       "      <th>streams</th>\n",
       "      <th>in_apple_playlists</th>\n",
       "      <th>...</th>\n",
       "      <th>bpm</th>\n",
       "      <th>key</th>\n",
       "      <th>mode</th>\n",
       "      <th>danceability_%</th>\n",
       "      <th>valence_%</th>\n",
       "      <th>energy_%</th>\n",
       "      <th>acousticness_%</th>\n",
       "      <th>instrumentalness_%</th>\n",
       "      <th>liveness_%</th>\n",
       "      <th>speechiness_%</th>\n",
       "    </tr>\n",
       "  </thead>\n",
       "  <tbody>\n",
       "    <tr>\n",
       "      <th>0</th>\n",
       "      <td>Seven (feat. Latto) (Explicit Ver.)</td>\n",
       "      <td>Latto, Jung Kook</td>\n",
       "      <td>2</td>\n",
       "      <td>2023</td>\n",
       "      <td>7</td>\n",
       "      <td>14</td>\n",
       "      <td>553</td>\n",
       "      <td>147</td>\n",
       "      <td>141381703</td>\n",
       "      <td>43</td>\n",
       "      <td>...</td>\n",
       "      <td>125</td>\n",
       "      <td>B</td>\n",
       "      <td>Major</td>\n",
       "      <td>80</td>\n",
       "      <td>89</td>\n",
       "      <td>83</td>\n",
       "      <td>31</td>\n",
       "      <td>0</td>\n",
       "      <td>8</td>\n",
       "      <td>4</td>\n",
       "    </tr>\n",
       "    <tr>\n",
       "      <th>1</th>\n",
       "      <td>LALA</td>\n",
       "      <td>Myke Towers</td>\n",
       "      <td>1</td>\n",
       "      <td>2023</td>\n",
       "      <td>3</td>\n",
       "      <td>23</td>\n",
       "      <td>1474</td>\n",
       "      <td>48</td>\n",
       "      <td>133716286</td>\n",
       "      <td>48</td>\n",
       "      <td>...</td>\n",
       "      <td>92</td>\n",
       "      <td>C#</td>\n",
       "      <td>Major</td>\n",
       "      <td>71</td>\n",
       "      <td>61</td>\n",
       "      <td>74</td>\n",
       "      <td>7</td>\n",
       "      <td>0</td>\n",
       "      <td>10</td>\n",
       "      <td>4</td>\n",
       "    </tr>\n",
       "    <tr>\n",
       "      <th>2</th>\n",
       "      <td>vampire</td>\n",
       "      <td>Olivia Rodrigo</td>\n",
       "      <td>1</td>\n",
       "      <td>2023</td>\n",
       "      <td>6</td>\n",
       "      <td>30</td>\n",
       "      <td>1397</td>\n",
       "      <td>113</td>\n",
       "      <td>140003974</td>\n",
       "      <td>94</td>\n",
       "      <td>...</td>\n",
       "      <td>138</td>\n",
       "      <td>F</td>\n",
       "      <td>Major</td>\n",
       "      <td>51</td>\n",
       "      <td>32</td>\n",
       "      <td>53</td>\n",
       "      <td>17</td>\n",
       "      <td>0</td>\n",
       "      <td>31</td>\n",
       "      <td>6</td>\n",
       "    </tr>\n",
       "    <tr>\n",
       "      <th>3</th>\n",
       "      <td>Cruel Summer</td>\n",
       "      <td>Taylor Swift</td>\n",
       "      <td>1</td>\n",
       "      <td>2019</td>\n",
       "      <td>8</td>\n",
       "      <td>23</td>\n",
       "      <td>7858</td>\n",
       "      <td>100</td>\n",
       "      <td>800840817</td>\n",
       "      <td>116</td>\n",
       "      <td>...</td>\n",
       "      <td>170</td>\n",
       "      <td>A</td>\n",
       "      <td>Major</td>\n",
       "      <td>55</td>\n",
       "      <td>58</td>\n",
       "      <td>72</td>\n",
       "      <td>11</td>\n",
       "      <td>0</td>\n",
       "      <td>11</td>\n",
       "      <td>15</td>\n",
       "    </tr>\n",
       "    <tr>\n",
       "      <th>4</th>\n",
       "      <td>WHERE SHE GOES</td>\n",
       "      <td>Bad Bunny</td>\n",
       "      <td>1</td>\n",
       "      <td>2023</td>\n",
       "      <td>5</td>\n",
       "      <td>18</td>\n",
       "      <td>3133</td>\n",
       "      <td>50</td>\n",
       "      <td>303236322</td>\n",
       "      <td>84</td>\n",
       "      <td>...</td>\n",
       "      <td>144</td>\n",
       "      <td>A</td>\n",
       "      <td>Minor</td>\n",
       "      <td>65</td>\n",
       "      <td>23</td>\n",
       "      <td>80</td>\n",
       "      <td>14</td>\n",
       "      <td>63</td>\n",
       "      <td>11</td>\n",
       "      <td>6</td>\n",
       "    </tr>\n",
       "  </tbody>\n",
       "</table>\n",
       "<p>5 rows × 24 columns</p>\n",
       "</div>"
      ],
      "text/plain": [
       "                            track_name    artist(s)_name  artist_count  \\\n",
       "0  Seven (feat. Latto) (Explicit Ver.)  Latto, Jung Kook             2   \n",
       "1                                 LALA       Myke Towers             1   \n",
       "2                              vampire    Olivia Rodrigo             1   \n",
       "3                         Cruel Summer      Taylor Swift             1   \n",
       "4                       WHERE SHE GOES         Bad Bunny             1   \n",
       "\n",
       "   released_year  released_month  released_day  in_spotify_playlists  \\\n",
       "0           2023               7            14                   553   \n",
       "1           2023               3            23                  1474   \n",
       "2           2023               6            30                  1397   \n",
       "3           2019               8            23                  7858   \n",
       "4           2023               5            18                  3133   \n",
       "\n",
       "   in_spotify_charts    streams  in_apple_playlists  ...  bpm key   mode  \\\n",
       "0                147  141381703                  43  ...  125   B  Major   \n",
       "1                 48  133716286                  48  ...   92  C#  Major   \n",
       "2                113  140003974                  94  ...  138   F  Major   \n",
       "3                100  800840817                 116  ...  170   A  Major   \n",
       "4                 50  303236322                  84  ...  144   A  Minor   \n",
       "\n",
       "  danceability_%  valence_% energy_% acousticness_%  instrumentalness_%  \\\n",
       "0             80         89       83             31                   0   \n",
       "1             71         61       74              7                   0   \n",
       "2             51         32       53             17                   0   \n",
       "3             55         58       72             11                   0   \n",
       "4             65         23       80             14                  63   \n",
       "\n",
       "   liveness_%  speechiness_%  \n",
       "0           8              4  \n",
       "1          10              4  \n",
       "2          31              6  \n",
       "3          11             15  \n",
       "4          11              6  \n",
       "\n",
       "[5 rows x 24 columns]"
      ]
     },
     "execution_count": 23,
     "metadata": {},
     "output_type": "execute_result"
    }
   ],
   "source": [
    "import pandas as pd\n",
    "\n",
    "df = pd.read_csv('spotify-2023.csv', encoding='ISO-8859-1')\n",
    "\n",
    "df.head()"
   ]
  },
  {
   "cell_type": "code",
   "execution_count": 25,
   "id": "6686f8db-f57b-4c28-912e-367e175fb409",
   "metadata": {},
   "outputs": [
    {
     "data": {
      "text/plain": [
       "<Axes: ylabel='Frequency'>"
      ]
     },
     "execution_count": 25,
     "metadata": {},
     "output_type": "execute_result"
    },
    {
     "data": {
      "image/png": "[encoded data removed]",
      "text/plain": [
       "<Figure size 640x480 with 1 Axes>"
      ]
     },
     "metadata": {},
     "output_type": "display_data"
    }
   ],
   "source": [
    "df['bpm'].plot(kind='hist')"
   ]
  },
  {
   "cell_type": "code",
   "execution_count": 27,
   "id": "8711e8e8-0881-4d2a-88f9-94e2e653ad9c",
   "metadata": {},
   "outputs": [
    {
     "data": {
      "text/html": [
       "<div>\n",
       "<style scoped>\n",
       "    .dataframe tbody tr th:only-of-type {\n",
       "        vertical-align: middle;\n",
       "    }\n",
       "\n",
       "    .dataframe tbody tr th {\n",
       "        vertical-align: top;\n",
       "    }\n",
       "\n",
       "    .dataframe thead th {\n",
       "        text-align: right;\n",
       "    }\n",
       "</style>\n",
       "<table border=\"1\" class=\"dataframe\">\n",
       "  <thead>\n",
       "    <tr style=\"text-align: right;\">\n",
       "      <th></th>\n",
       "      <th>track_name</th>\n",
       "      <th>artist(s)_name</th>\n",
       "      <th>artist_count</th>\n",
       "      <th>released_year</th>\n",
       "      <th>released_month</th>\n",
       "      <th>released_day</th>\n",
       "      <th>in_spotify_playlists</th>\n",
       "      <th>in_spotify_charts</th>\n",
       "      <th>streams</th>\n",
       "      <th>in_apple_playlists</th>\n",
       "      <th>...</th>\n",
       "      <th>bpm</th>\n",
       "      <th>key</th>\n",
       "      <th>mode</th>\n",
       "      <th>danceability_%</th>\n",
       "      <th>valence_%</th>\n",
       "      <th>energy_%</th>\n",
       "      <th>acousticness_%</th>\n",
       "      <th>instrumentalness_%</th>\n",
       "      <th>liveness_%</th>\n",
       "      <th>speechiness_%</th>\n",
       "    </tr>\n",
       "  </thead>\n",
       "  <tbody>\n",
       "    <tr>\n",
       "      <th>93</th>\n",
       "      <td>Donï¿½ï¿½ï¿½t Bl</td>\n",
       "      <td>Taylor Swift</td>\n",
       "      <td>1</td>\n",
       "      <td>2017</td>\n",
       "      <td>11</td>\n",
       "      <td>8</td>\n",
       "      <td>4875</td>\n",
       "      <td>23</td>\n",
       "      <td>685032533</td>\n",
       "      <td>19</td>\n",
       "      <td>...</td>\n",
       "      <td>136</td>\n",
       "      <td>A</td>\n",
       "      <td>Minor</td>\n",
       "      <td>62</td>\n",
       "      <td>19</td>\n",
       "      <td>53</td>\n",
       "      <td>11</td>\n",
       "      <td>0</td>\n",
       "      <td>6</td>\n",
       "      <td>4</td>\n",
       "    </tr>\n",
       "    <tr>\n",
       "      <th>120</th>\n",
       "      <td>LUNA</td>\n",
       "      <td>Junior H, Peso Pluma</td>\n",
       "      <td>2</td>\n",
       "      <td>2023</td>\n",
       "      <td>6</td>\n",
       "      <td>22</td>\n",
       "      <td>201</td>\n",
       "      <td>11</td>\n",
       "      <td>55842345</td>\n",
       "      <td>19</td>\n",
       "      <td>...</td>\n",
       "      <td>128</td>\n",
       "      <td>A</td>\n",
       "      <td>Minor</td>\n",
       "      <td>75</td>\n",
       "      <td>79</td>\n",
       "      <td>63</td>\n",
       "      <td>33</td>\n",
       "      <td>0</td>\n",
       "      <td>15</td>\n",
       "      <td>4</td>\n",
       "    </tr>\n",
       "    <tr>\n",
       "      <th>131</th>\n",
       "      <td>OMG</td>\n",
       "      <td>NewJeans</td>\n",
       "      <td>1</td>\n",
       "      <td>2023</td>\n",
       "      <td>1</td>\n",
       "      <td>2</td>\n",
       "      <td>1783</td>\n",
       "      <td>27</td>\n",
       "      <td>430977451</td>\n",
       "      <td>26</td>\n",
       "      <td>...</td>\n",
       "      <td>127</td>\n",
       "      <td>A</td>\n",
       "      <td>Minor</td>\n",
       "      <td>80</td>\n",
       "      <td>74</td>\n",
       "      <td>77</td>\n",
       "      <td>36</td>\n",
       "      <td>0</td>\n",
       "      <td>11</td>\n",
       "      <td>4</td>\n",
       "    </tr>\n",
       "    <tr>\n",
       "      <th>150</th>\n",
       "      <td>Mi Bello Angel</td>\n",
       "      <td>Natanael Cano</td>\n",
       "      <td>1</td>\n",
       "      <td>2023</td>\n",
       "      <td>6</td>\n",
       "      <td>30</td>\n",
       "      <td>86</td>\n",
       "      <td>8</td>\n",
       "      <td>31873544</td>\n",
       "      <td>7</td>\n",
       "      <td>...</td>\n",
       "      <td>128</td>\n",
       "      <td>A</td>\n",
       "      <td>Minor</td>\n",
       "      <td>81</td>\n",
       "      <td>90</td>\n",
       "      <td>77</td>\n",
       "      <td>1</td>\n",
       "      <td>0</td>\n",
       "      <td>9</td>\n",
       "      <td>5</td>\n",
       "    </tr>\n",
       "    <tr>\n",
       "      <th>194</th>\n",
       "      <td>Shut up My Moms Calling</td>\n",
       "      <td>Hotel Ugly</td>\n",
       "      <td>1</td>\n",
       "      <td>2020</td>\n",
       "      <td>2</td>\n",
       "      <td>10</td>\n",
       "      <td>1788</td>\n",
       "      <td>14</td>\n",
       "      <td>405136812</td>\n",
       "      <td>1</td>\n",
       "      <td>...</td>\n",
       "      <td>139</td>\n",
       "      <td>A</td>\n",
       "      <td>Minor</td>\n",
       "      <td>48</td>\n",
       "      <td>37</td>\n",
       "      <td>41</td>\n",
       "      <td>32</td>\n",
       "      <td>0</td>\n",
       "      <td>10</td>\n",
       "      <td>10</td>\n",
       "    </tr>\n",
       "  </tbody>\n",
       "</table>\n",
       "<p>5 rows × 24 columns</p>\n",
       "</div>"
      ],
      "text/plain": [
       "                  track_name        artist(s)_name  artist_count  \\\n",
       "93          Donï¿½ï¿½ï¿½t Bl          Taylor Swift             1   \n",
       "120                     LUNA  Junior H, Peso Pluma             2   \n",
       "131                      OMG              NewJeans             1   \n",
       "150           Mi Bello Angel         Natanael Cano             1   \n",
       "194  Shut up My Moms Calling            Hotel Ugly             1   \n",
       "\n",
       "     released_year  released_month  released_day  in_spotify_playlists  \\\n",
       "93            2017              11             8                  4875   \n",
       "120           2023               6            22                   201   \n",
       "131           2023               1             2                  1783   \n",
       "150           2023               6            30                    86   \n",
       "194           2020               2            10                  1788   \n",
       "\n",
       "     in_spotify_charts    streams  in_apple_playlists  ...  bpm key   mode  \\\n",
       "93                  23  685032533                  19  ...  136   A  Minor   \n",
       "120                 11   55842345                  19  ...  128   A  Minor   \n",
       "131                 27  430977451                  26  ...  127   A  Minor   \n",
       "150                  8   31873544                   7  ...  128   A  Minor   \n",
       "194                 14  405136812                   1  ...  139   A  Minor   \n",
       "\n",
       "    danceability_%  valence_% energy_% acousticness_%  instrumentalness_%  \\\n",
       "93              62         19       53             11                   0   \n",
       "120             75         79       63             33                   0   \n",
       "131             80         74       77             36                   0   \n",
       "150             81         90       77              1                   0   \n",
       "194             48         37       41             32                   0   \n",
       "\n",
       "     liveness_%  speechiness_%  \n",
       "93            6              4  \n",
       "120          15              4  \n",
       "131          11              4  \n",
       "150           9              5  \n",
       "194          10             10  \n",
       "\n",
       "[5 rows x 24 columns]"
      ]
     },
     "execution_count": 27,
     "metadata": {},
     "output_type": "execute_result"
    }
   ],
   "source": [
    "\n",
    "filtered_df = df [(df['bpm'] >= 120) & (df['bpm'] <= 140) & (df['mode'] == 'Minor') & (df['key'] == 'A') ]\n",
    "\n",
    "filtered_df.head()"
   ]
  },
  {
   "cell_type": "code",
   "execution_count": 33,
   "id": "3418702c-f916-4c76-b798-357ebb6c298b",
   "metadata": {},
   "outputs": [
    {
     "name": "stdout",
     "output_type": "stream",
     "text": [
      "BPM summary:\n",
      "count    953.000000\n",
      "mean     122.540399\n",
      "std       28.057802\n",
      "min       65.000000\n",
      "25%      100.000000\n",
      "50%      121.000000\n",
      "75%      140.000000\n",
      "max      206.000000\n",
      "Name: bpm, dtype: float64\n",
      "Mode: 120\n"
     ]
    }
   ],
   "source": [
    "print(\"BPM summary:\")\n",
    "print(df['bpm'].describe())\n",
    "print(\"Mode:\", df['bpm'].mode()[0])\n",
    "\n"
   ]
  },
  {
   "cell_type": "code",
   "execution_count": 35,
   "id": "f7feb069-d52e-4e5c-9a84-6f237430e5fe",
   "metadata": {},
   "outputs": [
    {
     "name": "stdout",
     "output_type": "stream",
     "text": [
      "Key counts:\n",
      "key\n",
      "C#    120\n",
      "G      96\n",
      "G#     91\n",
      "F      89\n",
      "B      81\n",
      "Name: count, dtype: int64\n"
     ]
    }
   ],
   "source": [
    "print(\"Key counts:\")\n",
    "print(df['key'].value_counts().head())\n"
   ]
  },
  {
   "cell_type": "code",
   "execution_count": 37,
   "id": "a427a891-c49c-46ab-89b6-f6b6ce6e0fd2",
   "metadata": {},
   "outputs": [
    {
     "name": "stdout",
     "output_type": "stream",
     "text": [
      "Mode counts:\n",
      "mode\n",
      "Major    550\n",
      "Minor    403\n",
      "Name: count, dtype: int64\n"
     ]
    }
   ],
   "source": [
    "print(\"Mode counts:\")\n",
    "print(df['mode'].value_counts())\n"
   ]
  },
  {
   "cell_type": "code",
   "execution_count": 39,
   "id": "0a3480f5-1f15-4c67-8ebc-413484d81fb9",
   "metadata": {},
   "outputs": [
    {
     "name": "stdout",
     "output_type": "stream",
     "text": [
      "Danceability summary:\n",
      "count    953.00000\n",
      "mean      66.96957\n",
      "std       14.63061\n",
      "min       23.00000\n",
      "25%       57.00000\n",
      "50%       69.00000\n",
      "75%       78.00000\n",
      "max       96.00000\n",
      "Name: danceability_%, dtype: float64\n",
      "Mode: 70\n"
     ]
    }
   ],
   "source": [
    "print(\"Danceability summary:\")\n",
    "print(df['danceability_%'].describe())\n",
    "print(\"Mode:\", df['danceability_%'].mode()[0])\n"
   ]
  },
  {
   "cell_type": "code",
   "execution_count": 41,
   "id": "31e36a93-bd98-4f05-bd1c-e0788656e460",
   "metadata": {},
   "outputs": [
    {
     "name": "stdout",
     "output_type": "stream",
     "text": [
      "Energy summary:\n",
      "count    953.000000\n",
      "mean      64.279119\n",
      "std       16.550526\n",
      "min        9.000000\n",
      "25%       53.000000\n",
      "50%       66.000000\n",
      "75%       77.000000\n",
      "max       97.000000\n",
      "Name: energy_%, dtype: float64\n",
      "Mode: 74\n"
     ]
    }
   ],
   "source": [
    "print(\"Energy summary:\")\n",
    "print(df['energy_%'].describe())\n",
    "print(\"Mode:\", df['energy_%'].mode()[0])\n"
   ]
  },
  {
   "cell_type": "code",
   "execution_count": 43,
   "id": "908fdfb3-88c6-4b30-9204-272d4ad46529",
   "metadata": {},
   "outputs": [
    {
     "name": "stdout",
     "output_type": "stream",
     "text": [
      "Speechiness summary:\n",
      "count    953.000000\n",
      "mean      10.131165\n",
      "std        9.912888\n",
      "min        2.000000\n",
      "25%        4.000000\n",
      "50%        6.000000\n",
      "75%       11.000000\n",
      "max       64.000000\n",
      "Name: speechiness_%, dtype: float64\n",
      "Mode: 4\n"
     ]
    }
   ],
   "source": [
    "print(\"Speechiness summary:\")\n",
    "print(df['speechiness_%'].describe())\n",
    "print(\"Mode:\", df['speechiness_%'].mode()[0])\n"
   ]
  },
  {
   "cell_type": "code",
   "execution_count": 45,
   "id": "509413ed-f165-4581-ac5a-b5f419994e4a",
   "metadata": {},
   "outputs": [
    {
     "name": "stdout",
     "output_type": "stream",
     "text": [
      "Acousticness summary:\n",
      "count    953.000000\n",
      "mean      27.057712\n",
      "std       25.996077\n",
      "min        0.000000\n",
      "25%        6.000000\n",
      "50%       18.000000\n",
      "75%       43.000000\n",
      "max       97.000000\n",
      "Name: acousticness_%, dtype: float64\n",
      "Mode: 0\n"
     ]
    }
   ],
   "source": [
    "print(\"Acousticness summary:\")\n",
    "print(df['acousticness_%'].describe())\n",
    "print(\"Mode:\", df['acousticness_%'].mode()[0])\n"
   ]
  },
  {
   "cell_type": "code",
   "execution_count": 61,
   "id": "337eca16-5156-4753-bf59-4121dd6f4460",
   "metadata": {},
   "outputs": [
    {
     "data": {
      "text/plain": [
       "<Axes: title={'center': 'Top 10 Artists by Song Count'}, xlabel='artist(s)_name'>"
      ]
     },
     "execution_count": 61,
     "metadata": {},
     "output_type": "execute_result"
    },
    {
     "data": {
      "image/png": "[encoded data removed]",
      "text/plain": [
       "<Figure size 640x480 with 1 Axes>"
      ]
     },
     "metadata": {},
     "output_type": "display_data"
    }
   ],
   "source": [
    "df['artist(s)_name'].value_counts().head(10).plot(kind='bar', title='Top 10 Artists by Song Count')\n"
   ]
  },
  {
   "cell_type": "code",
   "execution_count": 63,
   "id": "f6e4d67f-7af1-4c0e-86a4-e1003437c66e",
   "metadata": {},
   "outputs": [
    {
     "name": "stdout",
     "output_type": "stream",
     "text": [
      "Top 10 Artists by Song Count:\n",
      "artist(s)_name\n",
      "Taylor Swift      34\n",
      "The Weeknd        22\n",
      "Bad Bunny         19\n",
      "SZA               19\n",
      "Harry Styles      17\n",
      "Kendrick Lamar    12\n",
      "Morgan Wallen     11\n",
      "Ed Sheeran         9\n",
      "BTS                8\n",
      "Feid               8\n",
      "Name: count, dtype: int64\n"
     ]
    }
   ],
   "source": [
    "print(\"Top 10 Artists by Song Count:\")\n",
    "print(df['artist(s)_name'].value_counts().head(10))\n"
   ]
  },
  {
   "cell_type": "code",
   "execution_count": 54,
   "id": "a6d16bf4-bb96-4ca8-ac52-c95b1ca48909",
   "metadata": {},
   "outputs": [
    {
     "name": "stdout",
     "output_type": "stream",
     "text": [
      "Number of matches: 2\n"
     ]
    },
    {
     "data": {
      "text/html": [
       "<div>\n",
       "<style scoped>\n",
       "    .dataframe tbody tr th:only-of-type {\n",
       "        vertical-align: middle;\n",
       "    }\n",
       "\n",
       "    .dataframe tbody tr th {\n",
       "        vertical-align: top;\n",
       "    }\n",
       "\n",
       "    .dataframe thead th {\n",
       "        text-align: right;\n",
       "    }\n",
       "</style>\n",
       "<table border=\"1\" class=\"dataframe\">\n",
       "  <thead>\n",
       "    <tr style=\"text-align: right;\">\n",
       "      <th></th>\n",
       "      <th>track_name</th>\n",
       "      <th>artist(s)_name</th>\n",
       "    </tr>\n",
       "  </thead>\n",
       "  <tbody>\n",
       "    <tr>\n",
       "      <th>168</th>\n",
       "      <td>We Found Love</td>\n",
       "      <td>Rihanna, Calvin Harris</td>\n",
       "    </tr>\n",
       "    <tr>\n",
       "      <th>236</th>\n",
       "      <td>AMERICA HAS A PROBLEM (feat. Kendrick Lamar)</td>\n",
       "      <td>Kendrick Lamar, Beyoncï¿</td>\n",
       "    </tr>\n",
       "  </tbody>\n",
       "</table>\n",
       "</div>"
      ],
      "text/plain": [
       "                                       track_name            artist(s)_name\n",
       "168                                 We Found Love    Rihanna, Calvin Harris\n",
       "236  AMERICA HAS A PROBLEM (feat. Kendrick Lamar)  Kendrick Lamar, Beyoncï¿"
      ]
     },
     "execution_count": 54,
     "metadata": {},
     "output_type": "execute_result"
    }
   ],
   "source": [
    "criteria = (\n",
    "    (df['bpm'].between(120, 130)) &\n",
    "    (df['key'] == 'C#') &\n",
    "    (df['mode'] == 'Major') &\n",
    "    (df['danceability_%'].between(60, 80)) &\n",
    "    (df['energy_%'].between(60, 80)) &\n",
    "    (df['speechiness_%'] < 15) &\n",
    "    (df['acousticness_%'] <= 25)\n",
    ")\n",
    "\n",
    "smash_hits = df[criteria]\n",
    "print(\"Number of matches:\", len(smash_hits))\n",
    "smash_hits[['track_name', 'artist(s)_name']]\n"
   ]
  },
  {
   "cell_type": "code",
   "execution_count": 58,
   "id": "f3646b70-a13b-43f8-8e3c-49bc8eb65a9c",
   "metadata": {},
   "outputs": [
    {
     "data": {
      "text/html": [
       "<div>\n",
       "<style scoped>\n",
       "    .dataframe tbody tr th:only-of-type {\n",
       "        vertical-align: middle;\n",
       "    }\n",
       "\n",
       "    .dataframe tbody tr th {\n",
       "        vertical-align: top;\n",
       "    }\n",
       "\n",
       "    .dataframe thead th {\n",
       "        text-align: right;\n",
       "    }\n",
       "</style>\n",
       "<table border=\"1\" class=\"dataframe\">\n",
       "  <thead>\n",
       "    <tr style=\"text-align: right;\">\n",
       "      <th></th>\n",
       "      <th>track_name</th>\n",
       "      <th>artist(s)_name</th>\n",
       "      <th>bpm</th>\n",
       "      <th>key</th>\n",
       "      <th>mode</th>\n",
       "      <th>danceability_%</th>\n",
       "      <th>energy_%</th>\n",
       "      <th>speechiness_%</th>\n",
       "      <th>acousticness_%</th>\n",
       "    </tr>\n",
       "  </thead>\n",
       "  <tbody>\n",
       "    <tr>\n",
       "      <th>168</th>\n",
       "      <td>We Found Love</td>\n",
       "      <td>Rihanna, Calvin Harris</td>\n",
       "      <td>128</td>\n",
       "      <td>C#</td>\n",
       "      <td>Major</td>\n",
       "      <td>73</td>\n",
       "      <td>77</td>\n",
       "      <td>4</td>\n",
       "      <td>3</td>\n",
       "    </tr>\n",
       "  </tbody>\n",
       "</table>\n",
       "</div>"
      ],
      "text/plain": [
       "        track_name          artist(s)_name  bpm key   mode  danceability_%  \\\n",
       "168  We Found Love  Rihanna, Calvin Harris  128  C#  Major              73   \n",
       "\n",
       "     energy_%  speechiness_%  acousticness_%  \n",
       "168        77              4               3  "
      ]
     },
     "execution_count": 58,
     "metadata": {},
     "output_type": "execute_result"
    }
   ],
   "source": [
    "song = df[df['track_name'].str.contains(\"We Found Love\", case=False, na=False)]\n",
    "\n",
    "song[['track_name','artist(s)_name','bpm','key','mode',\n",
    "      'danceability_%','energy_%','speechiness_%','acousticness_%']]\n"
   ]
  },
  {
   "cell_type": "code",
   "execution_count": null,
   "id": "fb0f7356-2a69-4508-9fc5-75751f1309b3",
   "metadata": {},
   "outputs": [],
   "source": []
  }
 ],
 "metadata": {
  "kernelspec": {
   "display_name": "Python [conda env:base] *",
   "language": "python",
   "name": "conda-base-py"
  },
  "language_info": {
   "codemirror_mode": {
    "name": "ipython",
    "version": 3
   },
   "file_extension": ".py",
   "mimetype": "text/x-python",
   "name": "python",
   "nbconvert_exporter": "python",
   "pygments_lexer": "ipython3",
   "version": "3.12.7"
  }
 },
 "nbformat": 4,
 "nbformat_minor": 5
}
